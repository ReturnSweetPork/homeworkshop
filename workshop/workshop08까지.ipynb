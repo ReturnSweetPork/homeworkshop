{
 "cells": [
  {
   "cell_type": "code",
   "execution_count": 59,
   "metadata": {},
   "outputs": [],
   "source": [
    "i = \"dfsdfsdfsdfsdf\"\n",
    "def pal(i):\n",
    "    if i == i[::-1]:\n",
    "        return True\n",
    "    else:\n",
    "        return False"
   ]
  },
  {
   "cell_type": "code",
   "execution_count": null,
   "metadata": {},
   "outputs": [],
   "source": []
  },
  {
   "cell_type": "code",
   "execution_count": 63,
   "metadata": {},
   "outputs": [
    {
     "data": {
      "text/plain": [
       "False"
      ]
     },
     "execution_count": 63,
     "metadata": {},
     "output_type": "execute_result"
    }
   ],
   "source": [
    "\n",
    "def pal(i):\n",
    "    if i == i[::-1]:\n",
    "        return True\n",
    "    else:\n",
    "        return False\n",
    "    \n",
    "    \n",
    "pal(\"wowowowowowowowo\")"
   ]
  },
  {
   "cell_type": "code",
   "execution_count": null,
   "metadata": {},
   "outputs": [],
   "source": []
  },
  {
   "cell_type": "code",
   "execution_count": 64,
   "metadata": {},
   "outputs": [],
   "source": [
    "def pal(word):\n",
    "    list_word = list(word)\n",
    "    #\"토마토\" =>['토', '마', '토']\n",
    "    for i in range(len(list_word) // 2):\n",
    "        if list_word[i] != list_word[-i-1]:\n",
    "            return False\n",
    "    return True\n",
    "\n",
    "        "
   ]
  },
  {
   "cell_type": "code",
   "execution_count": 65,
   "metadata": {},
   "outputs": [
    {
     "name": "stdout",
     "output_type": "stream",
     "text": [
      "False\n"
     ]
    }
   ],
   "source": [
    "print(pal(\"sdfsdfsfd\"))"
   ]
  },
  {
   "cell_type": "code",
   "execution_count": null,
   "metadata": {},
   "outputs": [],
   "source": []
  },
  {
   "cell_type": "code",
   "execution_count": null,
   "metadata": {},
   "outputs": [],
   "source": []
  },
  {
   "cell_type": "code",
   "execution_count": 1,
   "metadata": {},
   "outputs": [
    {
     "name": "stdout",
     "output_type": "stream",
     "text": [
      "6\n"
     ]
    }
   ],
   "source": [
    "def my_func(a,b):\n",
    "    c = a+ b\n",
    "    print(c)\n",
    "    \n",
    "    \n",
    "result = my_func(1,5)"
   ]
  },
  {
   "cell_type": "code",
   "execution_count": 2,
   "metadata": {},
   "outputs": [],
   "source": [
    "def my_sqrt(n):\n",
    "    #left는 양의 정수 이기 때문에 1보다 는 크다!!!!!!\n",
    "    left = 1\n",
    "    #n의 제곱근은 n보다 작기 때문에 오른쪽 끝을 n으로 설정\n",
    "    right = n\n",
    "    ans = 0\n",
    "    #서로간의 차이가 0.00000000000000001이상이면 무한 반복~\n",
    "    while abs(ans**2 - n)  > 0.00001:\n",
    "        ans = (left + right)/2\n",
    "        if ans**2 < n:\n",
    "            left = ans\n",
    "        else :\n",
    "            right = ans\n",
    "            \n",
    "    return ans\n",
    "\n",
    "\n",
    "        \n",
    "    "
   ]
  },
  {
   "cell_type": "markdown",
   "metadata": {},
   "source": [
    "#### "
   ]
  },
  {
   "cell_type": "code",
   "execution_count": 3,
   "metadata": {},
   "outputs": [
    {
     "data": {
      "text/plain": [
       "1.414215087890625"
      ]
     },
     "execution_count": 3,
     "metadata": {},
     "output_type": "execute_result"
    }
   ],
   "source": [
    "my_sqrt(2)"
   ]
  },
  {
   "cell_type": "code",
   "execution_count": null,
   "metadata": {},
   "outputs": [],
   "source": []
  },
  {
   "cell_type": "code",
   "execution_count": 11,
   "metadata": {},
   "outputs": [
    {
     "name": "stdout",
     "output_type": "stream",
     "text": [
      "28.259999999999998\n",
      "18.84\n",
      "6.486832980505138\n",
      "132.12806664728322\n",
      "40.73731111757227\n"
     ]
    }
   ],
   "source": [
    "class Circle:\n",
    "    pi = 3.14\n",
    "    x = 0\n",
    "    y = 0\n",
    "    r = 0\n",
    "    \n",
    "    def area(self):\n",
    "        return self.pi*self.r*self.r\n",
    "    \n",
    "    def circumference(self):\n",
    "        return 2* self.pi *self.r\n",
    "    \n",
    "    def center(self):\n",
    "        return (self.x, self.y)\n",
    "    \n",
    "    def move(self, x, y):\n",
    "        self.x = x\n",
    "        self.y = y\n",
    "        \n",
    "circle = Circle()\n",
    "circle.x = 2\n",
    "circle.y = 4\n",
    "circle.r = 3\n",
    "circle.area()\n",
    "circle.circumference()\n",
    "print(circle.area())\n",
    "print(circle.circumference())\n",
    "\n",
    "\n",
    "circle2 = Circle()\n",
    "circle2.x = 0\n",
    "circle2.y = 0\n",
    "circle2.move(5,-5)\n",
    "circle2.r = (((circle.x - circle2.x) **2 + (circle.y - circle2.y) **2)**0.5) - circle.r\n",
    "print(circle2.r)\n",
    "circle2.area()\n",
    "circle2.circumference()\n",
    "print(circle2.area())\n",
    "print(circle2.circumference())"
   ]
  },
  {
   "cell_type": "code",
   "execution_count": 17,
   "metadata": {},
   "outputs": [],
   "source": [
    "class Person:\n",
    "    name = \"임시이름\"\n",
    "    age = 100\n",
    "    \n",
    "    \n",
    "    \n",
    "    def __init__(self, n, a):\n",
    "        print(\"안녕 나는 init 안에 있어\")\n",
    "        self.name = n\n",
    "        self.age = a\n",
    "    \n",
    "    def greeting(self):\n",
    "        print(f\"안녕 내이름은 {self.name}\")"
   ]
  },
  {
   "cell_type": "code",
   "execution_count": 23,
   "metadata": {},
   "outputs": [
    {
     "name": "stdout",
     "output_type": "stream",
     "text": [
      "안녕 나는 init 안에 있어\n",
      "hyunsang\n"
     ]
    }
   ],
   "source": [
    "hyunsang = Person(\"hyunsang\",27)\n",
    "print(hyunsang.name)"
   ]
  },
  {
   "cell_type": "code",
   "execution_count": null,
   "metadata": {},
   "outputs": [],
   "source": []
  },
  {
   "cell_type": "code",
   "execution_count": null,
   "metadata": {},
   "outputs": [],
   "source": []
  },
  {
   "cell_type": "code",
   "execution_count": null,
   "metadata": {},
   "outputs": [],
   "source": []
  }
 ],
 "metadata": {
  "kernelspec": {
   "display_name": "Python 3",
   "language": "python",
   "name": "python3"
  },
  "language_info": {
   "codemirror_mode": {
    "name": "ipython",
    "version": 3
   },
   "file_extension": ".py",
   "mimetype": "text/x-python",
   "name": "python",
   "nbconvert_exporter": "python",
   "pygments_lexer": "ipython3",
   "version": "3.6.7"
  }
 },
 "nbformat": 4,
 "nbformat_minor": 2
}
